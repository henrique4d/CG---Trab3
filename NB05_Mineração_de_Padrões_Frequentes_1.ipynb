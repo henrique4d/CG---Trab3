{
  "cells": [
    {
      "cell_type": "markdown",
      "metadata": {
        "id": "view-in-github",
        "colab_type": "text"
      },
      "source": [
        "<a href=\"https://colab.research.google.com/github/henrique4d/CG---Trab3/blob/main/NB05_Minera%C3%A7%C3%A3o_de_Padr%C3%B5es_Frequentes_1.ipynb\" target=\"_parent\"><img src=\"https://colab.research.google.com/assets/colab-badge.svg\" alt=\"Open In Colab\"/></a>"
      ]
    },
    {
      "cell_type": "markdown",
      "id": "76967b6f",
      "metadata": {
        "id": "76967b6f"
      },
      "source": [
        "# Notebook 5. Mineração de Padrões Frequentes - Parte 01\n",
        "\n",
        "<p>Notebook de apoio à Lição 2: \"Mineração de Padrões Frequentes - Parte 1\".</p>\n",
        "\n",
        "<p>Objetivos:</p>\n",
        "\n",
        "- Importar, processar e preparar dados para mineração de padrões frequentes\n",
        "- Implementar o algoritmo ingênuo (básico) visto em aula"
      ]
    },
    {
      "cell_type": "markdown",
      "id": "635f93cb",
      "metadata": {
        "id": "635f93cb"
      },
      "source": [
        "## 1. Importação de bibliotecas úteis\n",
        "\n",
        "- seaborn e matplotlib: visualização de dados\n",
        "- numpy: biblioteca numérica/matemática e de manipulação de arrays\n",
        "- pandas: importação e manipulação de estruturas de dados (DataFrames)\n",
        "- itertools: análise combinatória (permutações, combinações etc)\n",
        "- pprint: impressão \"amigável\" de estruturas de dados complexas\n",
        "- time: medição de tempo de execução\n",
        "- mlxtend: aprendizado de máquina (que tem padrões frequentes)\n",
        "- IPython.display.Latex: exibição de formatação LaTeX para notebooks"
      ]
    },
    {
      "cell_type": "code",
      "execution_count": null,
      "id": "de2221c1",
      "metadata": {
        "id": "de2221c1"
      },
      "outputs": [],
      "source": [
        "import seaborn as sns\n",
        "import matplotlib.pyplot as plt\n",
        "import numpy as np\n",
        "import pandas as pd\n",
        "import itertools as itt\n",
        "import pprint as pp\n",
        "from time import time\n",
        "from mlxtend.frequent_patterns import apriori, association_rules\n",
        "from IPython.display import Latex"
      ]
    },
    {
      "cell_type": "markdown",
      "id": "81564190",
      "metadata": {
        "id": "81564190"
      },
      "source": [
        "## 2. Preparação da base de dados\n",
        "\n",
        "- Os dados estão em um arquivo texto, no formato transacional\n",
        "- Desta vez, vamos carregar os dados e manipular a informação \"manualmente\"\n",
        "- Ao executar em seu computador, pode ser que seja necessário alterar o caminho e/ou nome do arquivo\n",
        "\n",
        "### 2.1 Carga dos dados"
      ]
    },
    {
      "cell_type": "code",
      "execution_count": null,
      "id": "70398773",
      "metadata": {
        "id": "70398773"
      },
      "outputs": [],
      "source": [
        "# Carrega conteúdo do arquivo para uma lista\n",
        "fp = open('dados/padaria.dat', 'r')\n",
        "# Carrega os dados do arquivo para uma lista de strings, onde cada item da lista é uma linha do arquivo\n",
        "conteudo = fp.readlines()\n",
        "fp.close()"
      ]
    },
    {
      "cell_type": "markdown",
      "id": "ebde5e98",
      "metadata": {
        "id": "ebde5e98"
      },
      "source": [
        "### 2.2 Criação da representação transacional a partir do arquivo"
      ]
    },
    {
      "cell_type": "code",
      "execution_count": null,
      "id": "98fd6193",
      "metadata": {
        "id": "98fd6193"
      },
      "outputs": [],
      "source": [
        "# Inicializa estruturas da base de dados e lista de itens\n",
        "I = set()\n",
        "base_t = []\n",
        "\n",
        "# Varre conteúdo do arquivo\n",
        "for linha in conteudo:\n",
        "    # Elimina espaços em branco do início e final da linha\n",
        "    linha = linha.strip()\n",
        "    # Quebra linha usando a vírgula e espaço como separadores\n",
        "    t = linha.split(', ')\n",
        "    # Transforma o tid em inteiro\n",
        "    t[0] = int(t[0])\n",
        "    # Extrai itens\n",
        "    itens = set(t[1:])\n",
        "    # Inclui itens no conjunto I\n",
        "    I = I.union(itens)\n",
        "    \n",
        "    # Adiciona a transação na base\n",
        "    base_t.append(t)\n",
        "\n",
        "# Ordena I\n",
        "I = sorted(I)\n",
        "\n",
        "# Exibe resultado\n",
        "print(I)"
      ]
    },
    {
      "cell_type": "markdown",
      "id": "8201c3e2",
      "metadata": {
        "id": "8201c3e2"
      },
      "source": [
        "### 2.3 Criação da representação binária a partir da representação transacional"
      ]
    },
    {
      "cell_type": "code",
      "execution_count": null,
      "id": "8c76596a",
      "metadata": {
        "id": "8c76596a"
      },
      "outputs": [],
      "source": [
        "# Cria matriz booleana de zeros, e dimensões |base_t| x |I|\n",
        "dados_bin = np.zeros((len(base_t), len(I)), dtype=bool)\n",
        "# Inicializa lista de ids de transação\n",
        "tids = []\n",
        "# Percorre as linhas da base transacional\n",
        "for t in base_t:\n",
        "    # Extrai tid e acrescenta em tids\n",
        "    tid = t[0]\n",
        "    tids.append(tid)\n",
        "    # i é a linha do array\n",
        "    i = tid-1\n",
        "    #    Percorre os itens da transação, identifica em qual coluna j estão\n",
        "    # e define o dado da posição i,j como verdadeiro\n",
        "    for item in t[1:]:\n",
        "        j = I.index(item)\n",
        "        dados_bin[i,j] = True\n",
        "# Cria e exibe DataFrame\n",
        "df = pd.DataFrame(data=dados_bin, columns=I, index=tids)\n",
        "df"
      ]
    },
    {
      "cell_type": "markdown",
      "id": "5322aec9",
      "metadata": {
        "id": "5322aec9"
      },
      "source": [
        "### 2.4 Salvamento da base binária"
      ]
    },
    {
      "cell_type": "code",
      "execution_count": null,
      "id": "63bba8f7",
      "metadata": {
        "id": "63bba8f7"
      },
      "outputs": [],
      "source": [
        "df.to_pickle('dados/padaria.pkl')"
      ]
    },
    {
      "cell_type": "markdown",
      "id": "0f5eb056",
      "metadata": {
        "id": "0f5eb056"
      },
      "source": [
        "## 3. Mineração de Padrões Frequentes\n",
        "\n",
        "### 3.1 Definindo parâmetros\n",
        "\n",
        "<p>O que seria algo frequente na base de dados?</p>\n",
        "\n",
        "<p>Olhar a distribuição dos dados pode nos auxiliar nessa tarefa.</p>\n",
        "\n",
        "#### 3.1.1 Análise exploratória"
      ]
    },
    {
      "cell_type": "code",
      "execution_count": null,
      "id": "26c77a4a",
      "metadata": {
        "id": "26c77a4a"
      },
      "outputs": [],
      "source": [
        "probabilidades = []\n",
        "for item in I:\n",
        "    contagem = df[item].sum()\n",
        "    probabilidades.append(contagem)\n",
        "    \n",
        "probabilidades = np.array(probabilidades)/len(df)\n",
        "prob_media = np.mean(probabilidades)\n",
        "desv_prob = np.std(probabilidades)\n",
        "    \n",
        "plt.title('Probabilidade de Ocorrência de cada item')\n",
        "plt.bar(I, probabilidades, label='Densidade')\n",
        "plt.axhline(y=prob_media, color='k', ls='dashed', label='Média')\n",
        "plt.axhline(y=prob_media-desv_prob, color='orange', ls='dashed')\n",
        "plt.axhline(y=prob_media+desv_prob, color='orange', ls='dashed', label='Desv. Pad.')\n",
        "plt.grid()\n",
        "plt.xticks(rotation='vertical')\n",
        "plt.legend()\n",
        "plt.tight_layout()\n",
        "plt.show()\n",
        "\n",
        "display(Latex(r'$\\bar{x}$: %7.4f' % prob_media))\n",
        "display(Latex(r'$\\bar{x} - s$: %7.4f' % (prob_media - desv_prob)))\n",
        "display(Latex(r'$\\bar{x} + s$: %7.4f' % (prob_media + desv_prob)))"
      ]
    },
    {
      "cell_type": "markdown",
      "id": "5bc115a0",
      "metadata": {
        "id": "5bc115a0"
      },
      "source": [
        "#### 3.1.2 Suporte e Confiança Mínimos"
      ]
    },
    {
      "cell_type": "code",
      "execution_count": null,
      "id": "c7585253",
      "metadata": {
        "id": "c7585253"
      },
      "outputs": [],
      "source": [
        "# minconf: arbitrário (especialista)\n",
        "minconf = 0.7\n",
        "# minsup: estimado com análise exploratória e validado por especialista\n",
        "minsup = prob_media - 0.5*desv_prob\n",
        "print('Minsup:', minsup)"
      ]
    },
    {
      "cell_type": "markdown",
      "id": "67de06ca",
      "metadata": {
        "id": "67de06ca"
      },
      "source": [
        "### 3.2 Enumeração de conjuntos frequentes\n",
        "\n",
        "<p>Na implementação ingênua, utilizaremos um algoritmo de <b>força bruta</b>.</p>"
      ]
    },
    {
      "cell_type": "code",
      "execution_count": null,
      "id": "739746f5",
      "metadata": {
        "id": "739746f5"
      },
      "outputs": [],
      "source": [
        "inicio = time()\n",
        "\n",
        "# Inicialização: conjunto F e mapa de suportes\n",
        "F = []\n",
        "S = {}\n",
        "\n",
        "# Enumeração e validação de conjuntos para cada tamanho de k\n",
        "para = False\n",
        "for k in range(1, len(I)+1):\n",
        "    # Gera as combinações de tamanho k e modela para uma lista\n",
        "    for itemset in itt.combinations(I, k):\n",
        "        # Monta representação binária do itemset\n",
        "        itemset_bin = np.zeros(len(I), dtype=bool)\n",
        "        for item in itemset:\n",
        "            pos = I.index(item)\n",
        "            itemset_bin[pos] = True\n",
        "        # Calcula suporte\n",
        "        sup = 0\n",
        "        for it in range(len(df)):\n",
        "            t = df.iloc[it]\n",
        "            check = t & itemset_bin\n",
        "            if (check == itemset_bin).all():\n",
        "                sup += 1\n",
        "        sup /= len(df)\n",
        "                \n",
        "        # Cria entrada no mapa de suportes\n",
        "        S[itemset] = sup\n",
        "                \n",
        "        # Valida frequencia\n",
        "        if sup >= minsup:\n",
        "            F.append(itemset)\n",
        "            \n",
        "tempo_f = time() - inicio\n",
        "\n",
        "print('Conjuntos obtidos:\\n')\n",
        "pp.pprint(F)\n",
        "print()\n",
        "print('Em %7.4fs' % tempo_f)"
      ]
    },
    {
      "cell_type": "markdown",
      "id": "72cfb3f4",
      "metadata": {
        "id": "72cfb3f4"
      },
      "source": [
        "### 3.3 Geração e validação de regras"
      ]
    },
    {
      "cell_type": "code",
      "execution_count": null,
      "id": "6453db11",
      "metadata": {
        "id": "6453db11"
      },
      "outputs": [],
      "source": [
        "inicio = time()\n",
        "\n",
        "# Inicializa conjunto final de regras\n",
        "R = []\n",
        "# Para cada permutação em F de tamanho 2:\n",
        "for r in itt.permutations(F, 2):\n",
        "    # Extrai o antecedente (X) e o consequente (Y)\n",
        "    X = set(r[0])\n",
        "    Y = set(r[1])\n",
        "    # Considerar somente os casos onde X e Y não possuem interseção\n",
        "    if X.intersection(Y) == set():\n",
        "        # Gera um conjunto (ordenado) XY (união)\n",
        "        XY = tuple(sorted(X.union(Y)))\n",
        "        # Obtem suporte de XY\n",
        "        sup = S[XY]\n",
        "        # Valida suporte\n",
        "        if sup >= minsup:\n",
        "            # Calcula, valida confiança e acrescenta em R, se for o caso\n",
        "            conf = sup / S[tuple(sorted(X))]\n",
        "            if conf >= minconf:\n",
        "                R.append((r, sup, conf))\n",
        "                \n",
        "tempo_r = time() - inicio\n",
        "\n",
        "print('Regras obtidas:\\n')\n",
        "pp.pprint(R)\n",
        "print()\n",
        "print('Em %7.4fs' % tempo_r)"
      ]
    },
    {
      "cell_type": "markdown",
      "id": "72257d47",
      "metadata": {
        "id": "72257d47"
      },
      "source": [
        "### 3.4 Validando resultados com a biblioteca <code>mlxtend</code>\n",
        "\n",
        "<p>O que seria algo frequente na base de dados?</p>\n",
        "\n",
        "<p>Olhar a distribuição dos dados pode nos auxiliar nessa tarefa.</p>"
      ]
    },
    {
      "cell_type": "code",
      "execution_count": null,
      "id": "268ea89b",
      "metadata": {
        "id": "268ea89b"
      },
      "outputs": [],
      "source": [
        "inicio = time()\n",
        "\n",
        "frequent_itemsets = apriori(df, min_support=minsup, use_colnames=True)\n",
        "rules = association_rules(frequent_itemsets, metric=\"confidence\", min_threshold=minconf)\n",
        "\n",
        "tempo_mlx = time() - inicio\n",
        "\n",
        "print('Regras obtidas:')\n",
        "display(rules[['antecedents', 'consequents', 'support', 'confidence']])\n",
        "print('Em %7.4fs' % tempo_mlx)"
      ]
    }
  ],
  "metadata": {
    "kernelspec": {
      "display_name": "Python 3.6.9 64-bit",
      "language": "python",
      "name": "python36964bit1ebe553b158f4c379d58151fce1a6974"
    },
    "language_info": {
      "codemirror_mode": {
        "name": "ipython",
        "version": 3
      },
      "file_extension": ".py",
      "mimetype": "text/x-python",
      "name": "python",
      "nbconvert_exporter": "python",
      "pygments_lexer": "ipython3",
      "version": "3.8.10"
    },
    "colab": {
      "name": "NB05 - Mineração de Padrões Frequentes - 1.ipynb",
      "provenance": [],
      "include_colab_link": true
    }
  },
  "nbformat": 4,
  "nbformat_minor": 5
}